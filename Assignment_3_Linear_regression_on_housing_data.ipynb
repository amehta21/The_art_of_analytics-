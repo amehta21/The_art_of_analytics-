{
  "nbformat": 4,
  "nbformat_minor": 0,
  "metadata": {
    "colab": {
      "provenance": []
    },
    "kernelspec": {
      "name": "python3",
      "display_name": "Python 3"
    },
    "language_info": {
      "name": "python"
    }
  },
  "cells": [
    {
      "cell_type": "markdown",
      "source": [
        "### **Question 1: Linear Regression**\n",
        "a) Load the \"Boston Housing\" dataset from scikit-learn's built-in datasets.\n",
        "\n",
        "b) Split the data into training and testing sets.\n",
        "\n",
        "if your roll number is even then\n",
        "(80% training, 20% testing).\n",
        "\n",
        "if your roll number is odd then\n",
        "(70% training, 30% testing).\n",
        "\n",
        "c) Train a linear regression model on the training data and make predictions on the testing data.\n",
        "\n",
        "d) Calculate the mean squared error (MSE) between the predicted and actual values."
      ],
      "metadata": {
        "id": "1jPprSK-PYuO"
      }
    },
    {
      "cell_type": "code",
      "execution_count": 1,
      "metadata": {
        "colab": {
          "base_uri": "https://localhost:8080/"
        },
        "id": "0DuiwdgVLT_Y",
        "outputId": "477088b5-96a4-488f-bf83-21c20a6b58c2"
      },
      "outputs": [
        {
          "output_type": "stream",
          "name": "stdout",
          "text": [
            "Mean Squared Error: 21.51744423117753\n"
          ]
        }
      ],
      "source": [
        "from sklearn import datasets\n",
        "from sklearn.model_selection import train_test_split\n",
        "from sklearn.linear_model import LinearRegression\n",
        "from sklearn.metrics import mean_squared_error\n",
        "import pandas as pd\n",
        "import numpy as np\n",
        "\n",
        "data_url = \"http://lib.stat.cmu.edu/datasets/boston\"\n",
        "raw_df = pd.read_csv(data_url, sep=\"\\s+\", skiprows=22, header=None)\n",
        "data = np.hstack([raw_df.values[::2, :], raw_df.values[1::2, :2]])\n",
        "target = raw_df.values[1::2, 2]\n",
        "\n",
        "X = data\n",
        "y = target\n",
        "\n",
        "# Split the data into training and testing sets\n",
        "X_train, X_test, y_train, y_test = train_test_split(X, y, test_size=0.3, random_state=42 )\n",
        "\n",
        "# Train a linear regression model\n",
        "model = LinearRegression()\n",
        "model.fit(X_train, y_train)\n",
        "\n",
        "# Make predictions on the testing data\n",
        "y_pred = model.predict(X_test)\n",
        "# Calculate the mean squared error\n",
        "mse = mean_squared_error(y_test, y_pred)\n",
        "print(\"Mean Squared Error:\", mse)\n"
      ]
    },
    {
      "cell_type": "markdown",
      "source": [
        "# **Question 2: L1 Regularization (Lasso)**\n",
        "a) Load the \"Diabetes\" dataset from scikit-learn's built-in datasets.\n",
        "\n",
        "b) Split the data into training and testing sets.\n",
        "\n",
        "if your roll number is even then (80% training, 20% testing).\n",
        "\n",
        "if your roll number is odd then (70% training, 30% testing).\n",
        "\n",
        "c) Train a Lasso regression model on the training data with an alpha value of 0.1.\n",
        "\n",
        "***Model name should be your first name***\n",
        "\n",
        "d) Evaluate the model's performance using the mean squared error (MSE) on the testing data.\n",
        "\n",
        "e) Identify the features that were selected (non-zero coefficients) by the Lasso model."
      ],
      "metadata": {
        "id": "WbKpaKxkLgVS"
      }
    },
    {
      "cell_type": "code",
      "source": [
        "from sklearn.datasets import load_diabetes\n",
        "from sklearn.model_selection import train_test_split\n",
        "from sklearn.linear_model import Lasso\n",
        "from sklearn.metrics import mean_squared_error\n",
        "\n",
        "diabetes_data = load_diabetes()\n",
        "\n",
        "X_train, X_test, y_train, y_test = train_test_split(diabetes_data.data, diabetes_data.target, test_size=0.3, random_state=42)\n",
        "\n",
        "arvind = Lasso(alpha=0.1)\n",
        "arvind.fit(X_train, y_train)\n",
        "\n",
        "y_pred = arvind.predict(X_test)\n",
        "MSE = mean_squared_error(y_test, y_pred)\n",
        "print(\"Mean Squared Error:\", MSE)\n",
        "\n",
        "selected_features = [feature for feature, coef in zip(diabetes_data.feature_names, arvind.coef_) if coef != 0]\n",
        "print(\"Selected Features:\", selected_features)\n",
        "\n"
      ],
      "metadata": {
        "colab": {
          "base_uri": "https://localhost:8080/"
        },
        "id": "goANRNrLPtKY",
        "outputId": "9a2d88a6-a464-47a0-b9c2-3b3042dc109c"
      },
      "execution_count": null,
      "outputs": [
        {
          "output_type": "stream",
          "name": "stdout",
          "text": [
            "Mean Squared Error: 2775.165076183445\n",
            "Selected Features: ['sex', 'bmi', 'bp', 's1', 's3', 's5', 's6']\n"
          ]
        }
      ]
    },
    {
      "cell_type": "markdown",
      "source": [
        "# **Question 3: L2 Regularization (Ridge)**\n",
        "a) Load the \"California Housing\" dataset from an online source (e.g., Kaggle).\n",
        "*housing.csv* written\n",
        "\n",
        "b) Perform any necessary preprocessing steps, such as handling missing values or scaling the features.\n",
        "\n",
        "c) Split the data into training and testing sets.\n",
        "\n",
        "if your roll number is prime (last two digits) then (85% training, 15% testing).\n",
        "\n",
        "if your roll number is not prime (last two digits) then (75% training, 35% testing).\n",
        "\n",
        "d) Train a Ridge regression model on the training data with an alpha value of 0.01.\n",
        "\n",
        "e) Calculate the mean squared error (MSE) on the testing data to assess the model's performance."
      ],
      "metadata": {
        "id": "3U_2dyDdb29w"
      }
    },
    {
      "cell_type": "code",
      "source": [
        "import pandas as pd\n",
        "from sklearn.model_selection import train_test_split\n",
        "from sklearn.linear_model import Ridge\n",
        "from sklearn.metrics import mean_squared_error\n",
        "from sklearn.preprocessing import StandardScaler, OneHotEncoder\n",
        "from sklearn.compose import ColumnTransformer\n",
        "\n",
        "# Load the California Housing dataset from an online source (e.g., Kaggle)\n",
        "data = pd.read_csv(\"/content/Housing.csv\")\n",
        "\n",
        "data.dropna(inplace=True)\n",
        "\n",
        "\n",
        "X = data.drop('price', axis=1)\n",
        "y = data['price']\n",
        "\n",
        "numeric_features = X.select_dtypes(include=['float64', 'int64']).columns\n",
        "numeric_transformer = StandardScaler()\n",
        "\n",
        "categorical_features = X.select_dtypes(include=['object']).columns\n",
        "categorical_transformer = OneHotEncoder(drop='first')\n",
        "\n",
        "preprocessor = ColumnTransformer(\n",
        "    transformers=[\n",
        "        ('numeric', numeric_transformer, numeric_features),\n",
        "        ('categorical', categorical_transformer, categorical_features)\n",
        "    ])\n",
        "\n",
        "X_train, X_test, y_train, y_test = train_test_split(X, y, test_size=0.15, random_state=42)\n",
        "\n",
        "X_train_processed = preprocessor.fit_transform(X_train)\n",
        "\n",
        "X_test_processed = preprocessor.transform(X_test)\n",
        "\n",
        "ridge_model = Ridge(alpha=0.01)\n",
        "ridge_model.fit(X_train_processed, y_train)\n",
        "\n",
        "y_pred = ridge_model.predict(X_test_processed)\n",
        "mse = mean_squared_error(y_test, y_pred)\n",
        "print(\"Mean Squared Error:\", mse)\n"
      ],
      "metadata": {
        "colab": {
          "base_uri": "https://localhost:8080/"
        },
        "id": "q-cjqN0HmfOR",
        "outputId": "cc0f55ae-421a-45a4-a020-f9489644d57c"
      },
      "execution_count": null,
      "outputs": [
        {
          "output_type": "stream",
          "name": "stdout",
          "text": [
            "Mean Squared Error: 1349747569880.33\n"
          ]
        }
      ]
    },
    {
      "cell_type": "code",
      "source": [],
      "metadata": {
        "id": "1d_eaefYnasY"
      },
      "execution_count": null,
      "outputs": []
    }
  ]
}